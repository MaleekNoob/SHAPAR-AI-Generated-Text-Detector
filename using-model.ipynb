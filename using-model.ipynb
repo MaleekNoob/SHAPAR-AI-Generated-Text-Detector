{
 "cells": [
  {
   "cell_type": "code",
   "execution_count": 5,
   "metadata": {},
   "outputs": [
    {
     "name": "stdout",
     "output_type": "stream",
     "text": [
      "WARNING:tensorflow:From C:\\Users\\STA Laptop\\AppData\\Local\\Packages\\PythonSoftwareFoundation.Python.3.10_qbz5n2kfra8p0\\LocalCache\\local-packages\\Python310\\site-packages\\keras\\src\\backend.py:1398: The name tf.executing_eagerly_outside_functions is deprecated. Please use tf.compat.v1.executing_eagerly_outside_functions instead.\n",
      "\n"
     ]
    },
    {
     "name": "stderr",
     "output_type": "stream",
     "text": [
      "WARNING:tensorflow:From C:\\Users\\STA Laptop\\AppData\\Local\\Packages\\PythonSoftwareFoundation.Python.3.10_qbz5n2kfra8p0\\LocalCache\\local-packages\\Python310\\site-packages\\keras\\src\\backend.py:1398: The name tf.executing_eagerly_outside_functions is deprecated. Please use tf.compat.v1.executing_eagerly_outside_functions instead.\n",
      "\n"
     ]
    }
   ],
   "source": [
    "# importing model.h5 that I trained in the previous vs notebook\n",
    "from keras.models import load_model\n",
    "\n",
    "model = load_model('model.h5')"
   ]
  },
  {
   "cell_type": "code",
   "execution_count": 6,
   "metadata": {},
   "outputs": [],
   "source": [
    "import pandas as pd\n",
    "\n",
    "# Replace 'your_file_path.csv' with the actual path to your CSV file\n",
    "train_file_path = 'final_train.csv'\n",
    "\n",
    "# Read the CSV file into a pandas DataFrame\n",
    "train_df = pd.read_csv(train_file_path, header=None, names=['text', 'label'])"
   ]
  },
  {
   "cell_type": "code",
   "execution_count": 7,
   "metadata": {},
   "outputs": [],
   "source": [
    "train_text = train_df['text']\n",
    "train_label = train_df['label']"
   ]
  },
  {
   "cell_type": "code",
   "execution_count": 8,
   "metadata": {},
   "outputs": [],
   "source": [
    "import tensorflow as tf\n",
    "from tensorflow import keras\n",
    "from tensorflow.keras.preprocessing.text import Tokenizer\n",
    "from tensorflow.keras.preprocessing.sequence import pad_sequences"
   ]
  },
  {
   "cell_type": "code",
   "execution_count": 9,
   "metadata": {},
   "outputs": [
    {
     "name": "stdout",
     "output_type": "stream",
     "text": [
      "1/1 [==============================] - 3s 3s/step\n",
      "\n",
      "\n",
      "Text  I have made a small text classification NLP that classifies text whether it is AI-generated or human-written. Now, I want to deploy it on a website. In that particular website, the user will paste his/her text and then the model will predict whether the text was AI-generated or not. How can I embed my tensorflow model into a website?\n",
      "\n",
      "Human Written: Negative with value of  [0.4962021]\n"
     ]
    }
   ],
   "source": [
    "from keras.preprocessing.text import Tokenizer\n",
    "\n",
    "# Create a tokenizer and fit it on your training data\n",
    "# replace num_words with the actual number used in your model\n",
    "tokenizer = Tokenizer(num_words=5000)\n",
    "# replace train_data with your actual training data\n",
    "tokenizer.fit_on_texts(train_text)\n",
    "\n",
    "max_length = 1000\n",
    "\n",
    "sentences = [\n",
    "    'I have made a small text classification NLP that classifies text whether it is AI-generated or human-written. Now, I want to deploy it on a website. In that particular website, the user will paste his/her text and then the model will predict whether the text was AI-generated or not. How can I embed my tensorflow model into a website?'\n",
    "]\n",
    "\n",
    "\n",
    "# Convert texts to sequences\n",
    "sample_sequences = tokenizer.texts_to_sequences(sentences)\n",
    "\n",
    "padding_type = 'post'\n",
    "# replace max_length with the actual length used in your model\n",
    "sample_padded = pad_sequences(\n",
    "    sample_sequences, padding=padding_type, maxlen=max_length)\n",
    "\n",
    "# Predicting\n",
    "classes = model.predict(sample_padded)\n",
    "\n",
    "i = 0\n",
    "for value in classes:\n",
    "    if value > 0.5:\n",
    "        print(\"\\n\\nText \", sentences[i])\n",
    "        print(\"\\nAI Generated :Positive with value of \", value)\n",
    "    else:\n",
    "        print(\"\\n\\nText \", sentences[i])\n",
    "        print(\"\\nHuman Written: Negative with value of \", value)\n",
    "    i += 1"
   ]
  },
  {
   "cell_type": "code",
   "execution_count": 10,
   "metadata": {},
   "outputs": [],
   "source": [
    "from keras.models import load_model\n",
    "\n",
    "# Make sure the 'model' variable is defined before accessing its attributes\n",
    "model = load_model('model.h5')\n",
    "output_layer_name = model.layers[-1].name"
   ]
  },
  {
   "cell_type": "code",
   "execution_count": 11,
   "metadata": {},
   "outputs": [
    {
     "name": "stdout",
     "output_type": "stream",
     "text": [
      "dense_3\n"
     ]
    }
   ],
   "source": [
    "print(output_layer_name)"
   ]
  },
  {
   "cell_type": "code",
   "execution_count": 12,
   "metadata": {},
   "outputs": [
    {
     "name": "stdout",
     "output_type": "stream",
     "text": [
      "2.15.0\n"
     ]
    }
   ],
   "source": [
    "import tensorflow as tf\n",
    "print(tf.__version__)"
   ]
  },
  {
   "cell_type": "code",
   "execution_count": 14,
   "metadata": {},
   "outputs": [
    {
     "name": "stdout",
     "output_type": "stream",
     "text": [
      "(None, 1)\n"
     ]
    }
   ],
   "source": [
    "print(model.output_shape)"
   ]
  }
 ],
 "metadata": {
  "kernelspec": {
   "display_name": "Python 3",
   "language": "python",
   "name": "python3"
  },
  "language_info": {
   "codemirror_mode": {
    "name": "ipython",
    "version": 3
   },
   "file_extension": ".py",
   "mimetype": "text/x-python",
   "name": "python",
   "nbconvert_exporter": "python",
   "pygments_lexer": "ipython3",
   "version": "3.10.11"
  }
 },
 "nbformat": 4,
 "nbformat_minor": 2
}
