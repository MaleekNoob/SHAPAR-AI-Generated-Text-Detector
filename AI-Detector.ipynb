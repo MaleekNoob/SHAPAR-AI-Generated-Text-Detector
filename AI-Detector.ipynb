{
 "cells": [
  {
   "cell_type": "code",
   "execution_count": 1,
   "metadata": {},
   "outputs": [],
   "source": [
    "import pandas as pd"
   ]
  },
  {
   "cell_type": "code",
   "execution_count": null,
   "metadata": {},
   "outputs": [],
   "source": [
    "# Replace 'your_file_path.csv' with the actual path to your CSV file\n",
    "train_file_path = 'final_train.csv'\n",
    "test_file_path = 'final_test.csv'\n",
    "\n",
    "# Read the CSV file into a pandas DataFrame\n",
    "train_df = pd.read_csv(train_file_path, header=None, names=['text', 'label'])\n",
    "test_df = pd.read_csv(test_file_path, header=None, names=['text', 'label'])\n",
    "\n",
    "\n",
    "# Display the first few rows of the DataFrame\n",
    "print(train_df.head())"
   ]
  },
  {
   "cell_type": "code",
   "execution_count": 3,
   "metadata": {},
   "outputs": [],
   "source": [
    "train_text = train_df['text']\n",
    "train_label = train_df['label']\n",
    "\n",
    "test_text = test_df['text']\n",
    "test_label = test_df['label']"
   ]
  },
  {
   "cell_type": "code",
   "execution_count": 10,
   "metadata": {},
   "outputs": [],
   "source": [
    "import tensorflow as tf\n",
    "from tensorflow import keras\n",
    "from tensorflow.keras.preprocessing.text import Tokenizer\n",
    "from tensorflow.keras.preprocessing.sequence import pad_sequences"
   ]
  },
  {
   "cell_type": "code",
   "execution_count": 11,
   "metadata": {},
   "outputs": [],
   "source": [
    "vocab_size = 1000000\n",
    "\n",
    "Tokenizer = Tokenizer(num_words=vocab_size, oov_token='<OOV>')\n",
    "Tokenizer.fit_on_texts(train_text)\n",
    "\n",
    "word_index = Tokenizer.word_index"
   ]
  },
  {
   "cell_type": "code",
   "execution_count": null,
   "metadata": {},
   "outputs": [],
   "source": [
    "import matplotlib.pyplot as plt\n",
    "\n",
    "# Assuming df is your DataFrame containing the 'text' column\n",
    "sequence_lengths = train_df['text'].apply(lambda x: len(x.split()))\n",
    "\n",
    "# Plot a histogram of sequence lengths\n",
    "plt.hist(sequence_lengths, bins=150)\n",
    "plt.title('Distribution of Sequence Lengths')\n",
    "plt.xlabel('Sequence Length')\n",
    "plt.ylabel('Frequency')\n",
    "plt.show()"
   ]
  },
  {
   "cell_type": "code",
   "execution_count": 16,
   "metadata": {},
   "outputs": [],
   "source": [
    "Tokenizer.fit_on_sequences(train_text)\n",
    "train_sequences = Tokenizer.texts_to_sequences(train_text)\n",
    "padded = pad_sequences(train_sequences, maxlen=1000, padding='post', truncating='post')"
   ]
  },
  {
   "cell_type": "code",
   "execution_count": 17,
   "metadata": {},
   "outputs": [],
   "source": [
    "Tokenizer.fit_on_sequences(test_text)\n",
    "test_sequences = Tokenizer.texts_to_sequences(test_text)\n",
    "testing_padded = pad_sequences(test_sequences, maxlen=1000, padding='post', truncating='post')"
   ]
  },
  {
   "cell_type": "code",
   "execution_count": 18,
   "metadata": {},
   "outputs": [],
   "source": [
    "embedding_dim = 200\n",
    "max_length = 1000\n",
    "\n",
    "model = tf.keras.Sequential([\n",
    "    tf.keras.layers.Embedding(vocab_size, embedding_dim, input_length=max_length),\n",
    "    tf.keras.layers.Bidirectional(tf.keras.layers.LSTM(64, return_sequences=True)),\n",
    "    tf.keras.layers.GlobalMaxPooling1D(),\n",
    "    tf.keras.layers.Dense(64, activation='relu'),\n",
    "    tf.keras.layers.Dropout(0.5),\n",
    "    tf.keras.layers.Dense(1, activation='sigmoid')\n",
    "])\n",
    "\n",
    "model.compile(loss='binary_crossentropy', optimizer='adam', metrics=['accuracy'])"
   ]
  },
  {
   "cell_type": "code",
   "execution_count": 24,
   "metadata": {},
   "outputs": [],
   "source": [
    "import numpy as np\n",
    "\n",
    "from sklearn.preprocessing import LabelEncoder\n",
    "\n",
    "train_label = [str(label) for label in train_label]\n",
    "test_label = [str(label) for label in test_label]\n",
    "\n",
    "encoder = LabelEncoder()\n",
    "train_label = encoder.fit_transform(train_label)\n",
    "test_label = encoder.transform(test_label)\n",
    "\n",
    "train_label = np.array(train_label).astype('float32')\n",
    "test_label = np.array(test_label).astype('float32')"
   ]
  },
  {
   "cell_type": "code",
   "execution_count": null,
   "metadata": {},
   "outputs": [],
   "source": [
    "from tensorflow.keras.callbacks import EarlyStopping\n",
    "\n",
    "# Define early stopping callback\n",
    "early_stopping = EarlyStopping(monitor='val_loss', patience=3, restore_best_weights=True)\n",
    "\n",
    "# Train the model with early stopping\n",
    "history = model.fit(padded, train_label, epochs=100, validation_data=(testing_padded, test_label), verbose=2, callbacks=[early_stopping])"
   ]
  }
 ],
 "metadata": {
  "kernelspec": {
   "display_name": "Python 3",
   "language": "python",
   "name": "python3"
  },
  "language_info": {
   "codemirror_mode": {
    "name": "ipython",
    "version": 3
   },
   "file_extension": ".py",
   "mimetype": "text/x-python",
   "name": "python",
   "nbconvert_exporter": "python",
   "pygments_lexer": "ipython3",
   "version": "3.10.11"
  }
 },
 "nbformat": 4,
 "nbformat_minor": 2
}
